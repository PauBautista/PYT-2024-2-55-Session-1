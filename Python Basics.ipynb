{
 "cells": [
  {
   "cell_type": "markdown",
   "metadata": {},
   "source": [
    "# Variables"
   ]
  },
  {
   "cell_type": "code",
   "execution_count": 1,
   "metadata": {},
   "outputs": [
    {
     "name": "stdout",
     "output_type": "stream",
     "text": [
      "Name: Alice\n",
      "Age: 30\n",
      "Height: 5.5\n"
     ]
    }
   ],
   "source": [
    "# Creating variables\n",
    "name = \"Alice\"      # A string variable\n",
    "age = 30            # An integer variable\n",
    "height = 5.5        # A float variable (decimal number)\n",
    "\n",
    "# Printing the variables\n",
    "print(\"Name:\", name)\n",
    "print(\"Age:\", age)\n",
    "print(\"Height:\", height)"
   ]
  },
  {
   "cell_type": "markdown",
   "metadata": {},
   "source": [
    "# Data Types"
   ]
  },
  {
   "cell_type": "code",
   "execution_count": 2,
   "metadata": {},
   "outputs": [
    {
     "name": "stdout",
     "output_type": "stream",
     "text": [
      "<class 'str'>\n",
      "<class 'int'>\n",
      "<class 'float'>\n",
      "<class 'bool'>\n"
     ]
    }
   ],
   "source": [
    "# String: A series of characters\n",
    "greeting = \"Hello, World!\"\n",
    "\n",
    "# Integer: Whole numbers\n",
    "count = 10\n",
    "\n",
    "# Float: Decimal numbers\n",
    "price = 9.99\n",
    "\n",
    "# Boolean: True or False values\n",
    "is_valid = True\n",
    "\n",
    "# Printing the data types\n",
    "print(type(greeting))  # <class 'str'>\n",
    "print(type(count))     # <class 'int'>\n",
    "print(type(price))     # <class 'float'>\n",
    "print(type(is_valid))  # <class 'bool'>"
   ]
  },
  {
   "cell_type": "markdown",
   "metadata": {},
   "source": [
    "# Basic Operators"
   ]
  },
  {
   "cell_type": "code",
   "execution_count": 3,
   "metadata": {},
   "outputs": [
    {
     "name": "stdout",
     "output_type": "stream",
     "text": [
      "Addition: 13\n",
      "Subtraction: 7\n",
      "Multiplication: 30\n",
      "Division: 3.3333333333333335\n",
      "Updated c: 7\n"
     ]
    }
   ],
   "source": [
    "# Arithmetic operators\n",
    "a = 10\n",
    "b = 3\n",
    "\n",
    "print(\"Addition:\", a + b)  # 13\n",
    "print(\"Subtraction:\", a - b)  # 7\n",
    "print(\"Multiplication:\", a * b)  # 30\n",
    "print(\"Division:\", a / b)  # 3.3333\n",
    "\n",
    "# Assignment operators\n",
    "c = 5   # Assign 5 to c\n",
    "c += 2  # Equivalent to c = c + 2\n",
    "print(\"Updated c:\", c)  # 7"
   ]
  },
  {
   "cell_type": "markdown",
   "metadata": {},
   "source": [
    "# Functions"
   ]
  },
  {
   "cell_type": "code",
   "execution_count": 4,
   "metadata": {},
   "outputs": [
    {
     "name": "stdout",
     "output_type": "stream",
     "text": [
      "Hello Alice!\n"
     ]
    }
   ],
   "source": [
    "# Defining a function\n",
    "def greet(name):\n",
    "    return \"Hello \" + name + \"!\"\n",
    "\n",
    "# Calling the function\n",
    "message = greet(\"Alice\")\n",
    "print(message)  # Hello Alice!\n"
   ]
  },
  {
   "cell_type": "code",
   "execution_count": 5,
   "metadata": {},
   "outputs": [
    {
     "name": "stdout",
     "output_type": "stream",
     "text": [
      "8\n"
     ]
    }
   ],
   "source": [
    "def add_numbers(a, b):\n",
    "    \"\"\"\n",
    "    This function takes two numbers and returns their sum.\n",
    "    \"\"\"\n",
    "    return a + b\n",
    "\n",
    "# Using the function\n",
    "result = add_numbers(5, 3)\n",
    "print(result)  # Output: 8"
   ]
  },
  {
   "cell_type": "markdown",
   "metadata": {},
   "source": [
    "# Conditional Statements"
   ]
  },
  {
   "cell_type": "code",
   "execution_count": 6,
   "metadata": {},
   "outputs": [
    {
     "name": "stdout",
     "output_type": "stream",
     "text": [
      "You are an adult.\n"
     ]
    }
   ],
   "source": [
    "# Conditional statement\n",
    "age = 18\n",
    "\n",
    "if age >= 18:\n",
    "    print(\"You are an adult.\")\n",
    "else:\n",
    "    print(\"You are not an adult.\")\n"
   ]
  },
  {
   "cell_type": "code",
   "execution_count": 7,
   "metadata": {},
   "outputs": [
    {
     "name": "stdout",
     "output_type": "stream",
     "text": [
      "Grade: C\n"
     ]
    }
   ],
   "source": [
    "score = 75\n",
    "\n",
    "if score >= 90:\n",
    "    print(\"Grade: A\")\n",
    "elif score >= 80:\n",
    "    print(\"Grade: B\")\n",
    "elif score >= 70:\n",
    "    print(\"Grade: C\")\n",
    "else:\n",
    "    print(\"Grade: F\")\n",
    "\n",
    "# Output will be \"Grade: C\" since score is 75"
   ]
  },
  {
   "cell_type": "code",
   "execution_count": 8,
   "metadata": {},
   "outputs": [
    {
     "name": "stdout",
     "output_type": "stream",
     "text": [
      "Greater than 10.\n",
      "And is an odd number.\n"
     ]
    }
   ],
   "source": [
    "num = 15\n",
    "\n",
    "if num > 10:\n",
    "    print(\"Greater than 10.\")\n",
    "    if num % 2 == 0:\n",
    "        print(\"And is an even number.\")\n",
    "    else:\n",
    "        print(\"And is an odd number.\")\n",
    "else:\n",
    "    print(\"10 or less.\")\n",
    "\n",
    "# Output will be:\n",
    "# Greater than 10.\n",
    "# And is an odd number."
   ]
  }
 ],
 "metadata": {
  "kernelspec": {
   "display_name": "acerapp",
   "language": "python",
   "name": "python3"
  },
  "language_info": {
   "codemirror_mode": {
    "name": "ipython",
    "version": 3
   },
   "file_extension": ".py",
   "mimetype": "text/x-python",
   "name": "python",
   "nbconvert_exporter": "python",
   "pygments_lexer": "ipython3",
   "version": "3.11.6"
  }
 },
 "nbformat": 4,
 "nbformat_minor": 2
}
