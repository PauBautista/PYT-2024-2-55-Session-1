{
 "cells": [
  {
   "cell_type": "code",
   "execution_count": 1,
   "metadata": {},
   "outputs": [],
   "source": [
    "player_name = input(\"Enter your name: \")\n",
    "health = 100\n",
    "location = \"forest\""
   ]
  },
  {
   "cell_type": "code",
   "execution_count": 2,
   "metadata": {},
   "outputs": [
    {
     "name": "stdout",
     "output_type": "stream",
     "text": [
      "Dean, your health is now 80.\n"
     ]
    }
   ],
   "source": [
    "health -= 20  # player loses health\n",
    "print(f\"{player_name}, your health is now {health}.\")"
   ]
  },
  {
   "cell_type": "code",
   "execution_count": 3,
   "metadata": {},
   "outputs": [
    {
     "name": "stdout",
     "output_type": "stream",
     "text": [
      "Dean, you are in the forest with health 80.\n"
     ]
    }
   ],
   "source": [
    "def show_status(name, health, location):\n",
    "    print(f\"{name}, you are in the {location} with health {health}.\")\n",
    "\n",
    "show_status(player_name, health, location)"
   ]
  },
  {
   "cell_type": "code",
   "execution_count": 4,
   "metadata": {},
   "outputs": [
    {
     "name": "stdout",
     "output_type": "stream",
     "text": [
      "You chose to fight and lost some health.\n",
      "Dean, you are in the forest with health 50.\n"
     ]
    }
   ],
   "source": [
    "choice = input(\"You see a wolf. Do you fight (f) or run (r)? \")\n",
    "if choice == 'f':\n",
    "    health -= 30\n",
    "    print(\"You chose to fight and lost some health.\")\n",
    "elif choice == 'r':\n",
    "    print(\"You chose to run away safely.\")\n",
    "else:\n",
    "    print(\"Invalid choice.\")\n",
    "show_status(player_name, health, location)"
   ]
  }
 ],
 "metadata": {
  "kernelspec": {
   "display_name": "Python 3",
   "language": "python",
   "name": "python3"
  },
  "language_info": {
   "codemirror_mode": {
    "name": "ipython",
    "version": 3
   },
   "file_extension": ".py",
   "mimetype": "text/x-python",
   "name": "python",
   "nbconvert_exporter": "python",
   "pygments_lexer": "ipython3",
   "version": "3.11.6"
  }
 },
 "nbformat": 4,
 "nbformat_minor": 2
}
